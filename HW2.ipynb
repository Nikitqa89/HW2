{
 "cells": [
  {
   "cell_type": "code",
   "execution_count": 1,
   "id": "a534ed30-96ed-4a08-b7a4-e1fc64d29b26",
   "metadata": {},
   "outputs": [],
   "source": [
    "import torch\n",
    "import torch.nn as nn\n",
    "from torch.nn import functional as F\n",
    "from torch.nn.functional import dropout\n",
    "import re"
   ]
  },
  {
   "cell_type": "code",
   "execution_count": 2,
   "id": "0c885648-87a9-4f15-bf72-c6c522c54bb4",
   "metadata": {},
   "outputs": [],
   "source": [
    "# Гиперпараметры\n",
    "batch_size = 64 # сколько независимых последовательностей мы будем обрабатывать параллельно\n",
    "block_size = 256 # Какова максимальная длина контекста для прогнозов\n",
    "max_iters = 5000\n",
    "eval_interval = 500\n",
    "learning_rate = 3e-4\n",
    "device = 'cuda' if torch.cuda.is_available() else 'cpu'\n",
    "eval_iters = 200\n",
    "n_embd = 384\n",
    "n_head = 6\n",
    "n_layer = 6\n",
    "dropout = 0.2"
   ]
  },
  {
   "cell_type": "code",
   "execution_count": 3,
   "id": "06abb3e8-b13e-4d28-a85e-5aa6fdc77984",
   "metadata": {},
   "outputs": [],
   "source": [
    "with open (r'D:\\\\Python\\Projects\\HW2last\\pythonProject1\\biesy.txt', encoding='utf-8') as f:\n",
    "    text = f.read()\n",
    "    text = re.sub(r'[^А-я—.,?;:! ]', '', text)"
   ]
  },
  {
   "cell_type": "code",
   "execution_count": 4,
   "id": "0b80ec67-ee21-4284-b7b7-15d9718c7d99",
   "metadata": {},
   "outputs": [
    {
     "name": "stdout",
     "output_type": "stream",
     "text": [
      " !,.:;?АБВГДЕЖЗИКЛМНОПРСТУФХЦЧШЭЮЯабвгдежзийклмнопрстуфхцчшщъыьэюя—\n",
      "67\n"
     ]
    }
   ],
   "source": [
    "chars = sorted(list(set(text))) # список всех символов из нашего файла\n",
    "vocab_size = len(chars)\n",
    "print(''.join(chars))\n",
    "print(vocab_size)"
   ]
  },
  {
   "cell_type": "code",
   "execution_count": 5,
   "id": "d2df9bcf-752c-4ac1-8816-997058a1ff51",
   "metadata": {},
   "outputs": [],
   "source": [
    "st = { ch:i for i,ch in enumerate(chars) }\n",
    "it = { i:ch for i,ch in enumerate(chars) }\n",
    "encode = lambda s: [st[c] for c in s] # из строки выводим список целых чисел\n",
    "decode = lambda l: ''.join([it[i] for i in l]) # из списка целых чисел получаем обратно строку"
   ]
  },
  {
   "cell_type": "code",
   "execution_count": 6,
   "id": "1f961513-3e78-4a1f-8c2d-46750e781236",
   "metadata": {},
   "outputs": [
    {
     "name": "stdout",
     "output_type": "stream",
     "text": [
      "[49, 50, 42, 36, 39, 52]\n",
      "привет\n"
     ]
    }
   ],
   "source": [
    "# для примера выведем слово привет\n",
    "print(encode(\"привет\"))\n",
    "print(decode(encode(\"привет\")))"
   ]
  },
  {
   "cell_type": "code",
   "execution_count": 7,
   "id": "e8031763-e492-4245-bebd-368fedb5e127",
   "metadata": {},
   "outputs": [
    {
     "name": "stdout",
     "output_type": "stream",
     "text": [
      "torch.Size([1297789]) torch.int64\n",
      "tensor([10, 45, 34, 36, 34,  0, 49, 39, 50, 36, 34, 65,  9, 46, 39, 51, 52, 48,\n",
      "         0, 36, 36, 39, 38, 39, 47, 42, 65,  4,  0, 47, 39, 51, 44, 48, 45, 62,\n",
      "        44, 48,  0, 49, 48, 38, 50, 48, 35, 47, 48, 51, 52, 39, 43,  0, 42, 41,\n",
      "         0, 35, 42, 48, 37, 50, 34, 54, 42, 42,  0, 46, 47, 48, 37, 48, 57, 52,\n",
      "        42, 46, 48, 37, 48,  0, 23, 52, 39, 49, 34, 47, 34,  0, 24, 50, 48, 54,\n",
      "        42, 46, 48, 36, 42, 57, 34,  0,  9, 39])\n"
     ]
    }
   ],
   "source": [
    "# создаем тензор из наших данных\n",
    "data = torch.tensor(encode(text), dtype=torch.long)\n",
    "print(data.shape, data.dtype)\n",
    "print(data[:100])"
   ]
  },
  {
   "cell_type": "code",
   "execution_count": 8,
   "id": "aa80e7ca-d3a3-48ef-bf60-911bb4e6c535",
   "metadata": {},
   "outputs": [],
   "source": [
    "# разделяем на тренировочную и проверочную выборки\n",
    "n = int(0.9*len(data))\n",
    "train_data = data[:n]\n",
    "val_data = data[n:]"
   ]
  },
  {
   "cell_type": "code",
   "execution_count": 9,
   "id": "f4c79b14-d079-41e3-baf0-3401ddc3ab0c",
   "metadata": {},
   "outputs": [],
   "source": [
    "# загрузка данных\n",
    "def get_batch(split):\n",
    "\n",
    "    data = train_data if split == 'train' else val_data\n",
    "    ix = torch.randint(len(data) - block_size, (batch_size,))\n",
    "    x = torch.stack([data[i:i+block_size] for i in ix])\n",
    "    y = torch.stack([data[i+1:i+block_size+1] for i in ix])\n",
    "    x, y = x.to(device), y.to(device)\n",
    "    return x, y"
   ]
  },
  {
   "cell_type": "code",
   "execution_count": 10,
   "id": "264fc418-f91a-4991-8943-6752b3bf2882",
   "metadata": {},
   "outputs": [],
   "source": [
    "# функция потерь\n",
    "@torch.no_grad()\n",
    "def estimate_loss():\n",
    "    out = {}\n",
    "    model.eval()\n",
    "    for split in ['train', 'val']:\n",
    "        losses = torch.zeros(eval_iters)\n",
    "        for k in range(eval_iters):\n",
    "            X, Y = get_batch(split)\n",
    "            logits, loss = model(X, Y)\n",
    "            losses[k] = loss.item()\n",
    "        out[split] = losses.mean()\n",
    "    model.train()\n",
    "    return out"
   ]
  },
  {
   "cell_type": "code",
   "execution_count": 11,
   "id": "7a632b4e-a318-4ed3-9e0b-f94a18765b69",
   "metadata": {},
   "outputs": [],
   "source": [
    "class Head(nn.Module):\n",
    "    \"\"\" одна голова самовнимания \"\"\"\n",
    "    \n",
    "    def __init__(self, head_size):\n",
    "        super().__init__()\n",
    "        self.key = nn.Linear(n_embd, head_size, bias=False)\n",
    "        self.query = nn.Linear(n_embd, head_size, bias=False)\n",
    "        self.value = nn.Linear(n_embd, head_size, bias=False)\n",
    "        self.register_buffer('tril', torch.tril(torch.ones(block_size, block_size)))\n",
    "        self.dropout = nn.Dropout(dropout)\n",
    "    def forward(self, x):\n",
    "        B,T,C = x.shape\n",
    "        k = self.key(x) # (B, T, C)\n",
    "        q = self.query(x) # (B, T, C)\n",
    "        # вычисляем баллы внимания\n",
    "        wei = q @ k.transpose(-2,-1) * C**-0.5 # (B, T, C) @ (B, C, T) --> (B, T, T)\n",
    "        wei = wei.masked_fill(self.tril[:T,:T] == 0, float('-inf')) # (B, T, T)\n",
    "        wei = F.softmax(wei, dim=-1) # (B, T, T)\n",
    "        wei = self.dropout(wei)\n",
    "        # выполняем взвешенное агрегирование значений\n",
    "        v = self.value(x) # (B,T,C)\n",
    "        out = wei @ v # (B, T, T) @ (B, T, C) --> (B, T, C)\n",
    "        return out"
   ]
  },
  {
   "cell_type": "code",
   "execution_count": 12,
   "id": "2f79b680-842c-492d-99d9-c714a4f95de6",
   "metadata": {},
   "outputs": [],
   "source": [
    "class MultiHeadAttention(nn.Module):\n",
    "    \"\"\" несколько голов внутреннего внимания параллельно\"\"\"\n",
    "\n",
    "    def __init__(self, num_heads, head_size):\n",
    "        super().__init__()\n",
    "        self.heads = nn.ModuleList([Head(head_size) for _ in range(num_heads)])\n",
    "        self.proj = nn.Linear(n_embd, n_embd)\n",
    "        self.dropout = nn.Dropout(dropout)\n",
    "    def forward(self, x):\n",
    "        out = torch.cat([h(x) for h in self.heads], dim=-1)\n",
    "        out = self.proj(out)\n",
    "        return out"
   ]
  },
  {
   "cell_type": "code",
   "execution_count": 13,
   "id": "d222d37f-a42e-44d6-a6ba-839012d056f1",
   "metadata": {},
   "outputs": [],
   "source": [
    "class FeedForward(nn.Module):\n",
    "    \"\"\" простой линейный слой, за которым следует нелинейность \"\"\"\n",
    "\n",
    "    def __init__(self, n_embd):\n",
    "        super().__init__()\n",
    "        self.net = nn.Sequential(\n",
    "            nn.Linear(n_embd, 4 * n_embd),\n",
    "            nn.ReLU(),\n",
    "            nn.Linear(4 * n_embd, n_embd),\n",
    "            nn.Dropout(dropout),\n",
    "        )\n",
    "\n",
    "    def forward(self, x):\n",
    "        return self.net(x)"
   ]
  },
  {
   "cell_type": "code",
   "execution_count": 14,
   "id": "df4664b8-3715-4824-bd9b-e546ff18583f",
   "metadata": {},
   "outputs": [],
   "source": [
    "class Block(nn.Module):\n",
    "    \"\"\" Блок трансформера: связь с последующим вычислением \"\"\"\n",
    "\n",
    "    def __init__(self, n_embd, n_head):\n",
    "        # n_embd - размерность встраивания, n_head - количество голов, которые нам нужны\n",
    "        super().__init__()\n",
    "        head_size = n_embd // n_head\n",
    "        self.sa = MultiHeadAttention(n_head, head_size)\n",
    "        self.ffwd = FeedForward(n_embd)\n",
    "        self.ln1 = nn.LayerNorm(n_embd)\n",
    "        self.ln2 = nn.LayerNorm(n_embd)\n",
    "    def forward(self, x):\n",
    "        x = x + self.sa(self.ln1(x))\n",
    "        x = x + self.ffwd(self.ln2(x))\n",
    "        return x"
   ]
  },
  {
   "cell_type": "code",
   "execution_count": 15,
   "id": "ba75ed29-0842-400a-8810-681923aefc23",
   "metadata": {},
   "outputs": [],
   "source": [
    "class BigramLanguageModel(nn.Module):\n",
    "\n",
    "    def __init__(self):\n",
    "        super().__init__()\n",
    "        #\n",
    "        self.token_embedding_table = nn.Embedding(vocab_size, n_embd)\n",
    "        self.position_embedding_table = nn.Embedding(block_size, n_embd)\n",
    "        self.blocks = nn.Sequential(*[Block(n_embd, n_head=n_head) for _ in range(n_layer)])\n",
    "        self.ln_f = nn.LayerNorm(n_embd) # последний слой нормализации\n",
    "        self.lm_head = nn.Linear(n_embd, vocab_size)\n",
    "\n",
    "    def forward(self, idx, target=None):\n",
    "        B, T = idx.shape\n",
    "        #idx и targets оба (B, T) целочисленные тензоры\n",
    "        tok_emb = self.token_embedding_table(idx) # (B,T,C)\n",
    "        pos_emb = self.position_embedding_table(torch.arange(T, device=device)) # (T, C)\n",
    "        x = tok_emb + pos_emb # (B,T,C)\n",
    "        x = self.blocks(x) # (B,T,C)\n",
    "        logits = self.lm_head(x) # (B,T,vocab_size)\n",
    "\n",
    "        if target is None:\n",
    "            loss=None\n",
    "        else:\n",
    "            B, T, C = logits.shape\n",
    "            logits = logits.view(B*T, C)\n",
    "            target = target.view(B*T)\n",
    "            loss = F.cross_entropy(logits, target)\n",
    "\n",
    "        return logits, loss\n",
    "\n",
    "    def generate(self, idx, max_new_tokens):\n",
    "        # idx — это (B, T) массив индексов в текущем контексте\n",
    "        for _ in range(max_new_tokens):\n",
    "            # обрезаем idx до последних токенов block_size\n",
    "            idx_cond = idx[:, -block_size:]\n",
    "            # получаем прогнозы\n",
    "            logits, loss = self(idx_cond)\n",
    "            # сосредоточимся только на последнем временном шаге\n",
    "            logits = logits[:,-1,:] #  (B, C)\n",
    "            # применим softmax для получения вероятностей\n",
    "            probs = F.softmax(logits, dim=1) # (B, C)\n",
    "            # выборка для раздачи\n",
    "            idx_next = torch.multinomial(probs, num_samples=1) # (B, 1)\n",
    "            # добавляем выборочный индекс к работающей последовательности\n",
    "            idx = torch.cat((idx, idx_next), dim=1) # (B, T+1)\n",
    "        return idx"
   ]
  },
  {
   "cell_type": "code",
   "execution_count": null,
   "id": "6922f3d0-8d64-4ebc-b932-0e7ea3d2168e",
   "metadata": {},
   "outputs": [
    {
     "name": "stdout",
     "output_type": "stream",
     "text": [
      "step 0: train loss 4.5751, val loss 4.5657\n"
     ]
    }
   ],
   "source": [
    "model = BigramLanguageModel()\n",
    "m = model.to(device)\n",
    "\n",
    "optimizer = torch.optim.AdamW(model.parameters(), lr=learning_rate)\n",
    "\n",
    "for iter in range(max_iters):\n",
    "\n",
    "    if iter % eval_interval == 0:\n",
    "        losses = estimate_loss()\n",
    "        print(f\"step {iter}: train loss {losses['train']:.4f}, val loss {losses['val']:.4f}\")\n",
    "\n",
    "    # выборка пакета данных\n",
    "    xb, yb = get_batch('train')\n",
    "\n",
    "    # оценка потерь\n",
    "    logits, loss = model(xb, yb)\n",
    "    optimizer.zero_grad(set_to_none=True)\n",
    "    loss.backward()\n",
    "    optimizer.step()"
   ]
  },
  {
   "cell_type": "code",
   "execution_count": 17,
   "id": "50bcd43e-6daf-4732-89ef-56d539a72527",
   "metadata": {},
   "outputs": [
    {
     "name": "stdout",
     "output_type": "stream",
     "text": [
      " открытыми дама руками, не давеча, напримешниколевы, стадал мне, из комнатыми, что тот он не узнал тебя опять необычайностей, то, про слеза. Да и могу же я   распришил его, Варваре Петровне мне покраснела, которая укрепись: сначала была поглядели ей, несмотря на читанность. Я не любила одно лишь это,\n"
     ]
    }
   ],
   "source": [
    "context = torch.zeros((1, 1), dtype=torch.long, device=device)\n",
    "print(decode(m.generate(context, max_new_tokens=300)[0].tolist()))"
   ]
  },
  {
   "cell_type": "code",
   "execution_count": null,
   "id": "ced34b70-9aef-46aa-92c2-882bdfb0a7ec",
   "metadata": {},
   "outputs": [],
   "source": []
  }
 ],
 "metadata": {
  "kernelspec": {
   "display_name": "Python 3 (ipykernel)",
   "language": "python",
   "name": "python3"
  },
  "language_info": {
   "codemirror_mode": {
    "name": "ipython",
    "version": 3
   },
   "file_extension": ".py",
   "mimetype": "text/x-python",
   "name": "python",
   "nbconvert_exporter": "python",
   "pygments_lexer": "ipython3",
   "version": "3.10.11"
  }
 },
 "nbformat": 4,
 "nbformat_minor": 5
}
